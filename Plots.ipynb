{
 "cells": [
  {
   "cell_type": "markdown",
   "metadata": {},
   "source": [
    "# Combining range and angles for improved localizatioin\n",
    "\n",
    "## Recreation of plots used in the paper"
   ]
  },
  {
   "cell_type": "code",
   "execution_count": 1,
   "metadata": {
    "scrolled": true
   },
   "outputs": [],
   "source": [
    "#Useful imports\n",
    "%matplotlib inline\n",
    "import numpy as np\n",
    "import matplotlib.pyplot as plt\n",
    "from math import sin, cos, asin, acos, atan\n",
    "%reload_ext autoreload\n",
    "%autoreload 2\n",
    "from matplotlib import rc\n",
    "rc('font',**{'family':'dejavu-sans','sans-serif':['Helvetica']})\n",
    "rc('text', usetex=True)"
   ]
  },
  {
   "cell_type": "markdown",
   "metadata": {},
   "source": [
    "## Heterogenous Information"
   ]
  },
  {
   "cell_type": "code",
   "execution_count": 5,
   "metadata": {},
   "outputs": [
    {
     "name": "stdout",
     "output_type": "stream",
     "text": [
      "loading reproduce_test/options_1524016122.json\n",
      "{'N': 5, 'd': 2, 'min_rho': 0.01, 'max_sigma': 0.5, 'gaussian': True, 'n_rhos': 4, 'print_out': False, 'n_it': 2, 'min_sigma': 0.01, 'n_sigma': 3, 'max_rho': 0.5}\n",
      "loading reproduce_test/options_1524015551.json\n",
      "{'N': 5, 'min_rho': 0.01, 'max_sigma': 0.5, 'gaussian': True, 'n_rhos': 4, 'n_sigma': 3, 'print_out': False, 'n_it': 2, 'min_sigma': 0.01, 'd': 2, 'max_rho': 0.5}\n",
      "identified times: ['1524016122', '1524015551']\n",
      "n_its {'1524016122': 2, '1524015551': 2}\n"
     ]
    }
   ],
   "source": [
    "import os\n",
    "import json\n",
    "\n",
    "# choose what you want to plot.\n",
    "FOLDER = 'reproduce_test'\n",
    "methods = ['CDM','constrained E-MDS','E-MDS','MDS']\n",
    "N = 5\n",
    "d = 2\n",
    "n_it = 2 #100\n",
    "\n",
    "# find times with correct options:\n",
    "times = []\n",
    "n_its = {}\n",
    "good_options = None\n",
    "for f in os.listdir(FOLDER):\n",
    "    if f.startswith('options_'):\n",
    "        filename = '{}/{}'.format(FOLDER, f)\n",
    "        with open(filename, 'r') as options_file:\n",
    "            print('loading',filename)\n",
    "            options = json.load(options_file)\n",
    "        if options['N']==N and options['d']==d and options['n_it']==n_it:\n",
    "            print(options)\n",
    "            time = f[-15:-5]\n",
    "            n_its[str(time)] = options['n_it']\n",
    "            times.append(time)\n",
    "            good_options = options\n",
    "print('identified times:',times)\n",
    "print('n_its',n_its)"
   ]
  },
  {
   "cell_type": "code",
   "execution_count": 6,
   "metadata": {},
   "outputs": [
    {
     "name": "stdout",
     "output_type": "stream",
     "text": [
      "loading reproduce_test/rmses_constrained E-MDS_1524016122.npy\n",
      "loading reproduce_test/rmses_constrained E-MDS_1524015551.npy\n",
      "loading reproduce_test/rmses_E-MDS_1524016122.npy\n",
      "loading reproduce_test/rmses_E-MDS_1524015551.npy\n",
      "loading reproduce_test/rmses_CDM_1524016122.npy\n",
      "could not find new data\n",
      "loading reproduce_test/rmses_MDS_1524016122.npy\n",
      "loading reproduce_test/rmses_MDS_1524015551.npy\n"
     ]
    }
   ],
   "source": [
    "# read results\n",
    "linestyles = ['-','-.',':','--','-']\n",
    "markerstyle = ('o', 's', '^', '*', '>', '8', 's', 'p', '*', 'h', 'H', 'D', 'd', 'P', 'X')\n",
    "dict_methods = {m:{'rmses':'','linestyle':linestyles[i], 'marker':markerstyle[i]} \n",
    "                for i,m in enumerate(methods)}\n",
    "name = 'rmses_{}_{}'\n",
    "for key in dict_methods.keys():\n",
    "    total_n_it = 0\n",
    "    for time in times:\n",
    "        try: \n",
    "            new_data = np.load(FOLDER+'/'+name.format(key, time)+'.npy')\n",
    "            print('loading {}/'.format(FOLDER) +name.format(key, time)+'.npy')\n",
    "            try:\n",
    "                dict_methods[key]['rmses'] += n_its[time] * new_data\n",
    "            except TypeError:\n",
    "                dict_methods[key]['rmses'] = n_its[time] * new_data\n",
    "            total_n_it += n_its[time]\n",
    "        except:\n",
    "            print('could not find new data')\n",
    "    if total_n_it > 0:\n",
    "        dict_methods[key]['rmses'] /= total_n_it\n",
    "    else:\n",
    "        raise NameError('Could not find any results for method', key)\n",
    "        "
   ]
  },
  {
   "cell_type": "code",
   "execution_count": 7,
   "metadata": {},
   "outputs": [],
   "source": [
    "# Parse options from file.\n",
    "from run_simulation import parse_options, parse_options_gaussian\n",
    "\n",
    "if options['gaussian']:\n",
    "    sigmas, rhos, __ = parse_options_gaussian(good_options)\n",
    "    epsilons = rhos\n",
    "    noise_label = '\\sigma_a'\n",
    "else:\n",
    "    sigmas, rhos, __ = parse_options(good_options)\n",
    "    epsilons = get_epsilons(rhos)\n",
    "    noise_label = '\\epsilon'\n"
   ]
  },
  {
   "cell_type": "code",
   "execution_count": 8,
   "metadata": {},
   "outputs": [
    {
     "name": "stderr",
     "output_type": "stream",
     "text": [
      "/home/kiki/.local/lib/python3.5/site-packages/matplotlib/cbook/deprecation.py:107: MatplotlibDeprecationWarning: Passing one of 'on', 'true', 'off', 'false' as a boolean is deprecated; use an actual boolean (True/False) instead.\n",
      "  warnings.warn(message, mplDeprecation, stacklevel=1)\n",
      "/home/kiki/.local/lib/python3.5/site-packages/matplotlib/cbook/deprecation.py:107: MatplotlibDeprecationWarning: Passing one of 'on', 'true', 'off', 'false' as a boolean is deprecated; use an actual boolean (True/False) instead.\n",
      "  warnings.warn(message, mplDeprecation, stacklevel=1)\n"
     ]
    },
    {
     "ename": "IndexError",
     "evalue": "index 10 is out of bounds for axis 1 with size 4",
     "output_type": "error",
     "traceback": [
      "\u001b[0;31m---------------------------------------------------------------------------\u001b[0m",
      "\u001b[0;31mIndexError\u001b[0m                                Traceback (most recent call last)",
      "\u001b[0;32m<ipython-input-8-af9b004bc8fb>\u001b[0m in \u001b[0;36m<module>\u001b[0;34m()\u001b[0m\n\u001b[1;32m     11\u001b[0m \u001b[0msaveas\u001b[0m \u001b[0;34m=\u001b[0m \u001b[0;34m'{}/high_angle_noise_N{}_d{}_deg.eps'\u001b[0m\u001b[0;34m.\u001b[0m\u001b[0mformat\u001b[0m\u001b[0;34m(\u001b[0m\u001b[0mFOLDER\u001b[0m\u001b[0;34m,\u001b[0m \u001b[0mN\u001b[0m\u001b[0;34m,\u001b[0m \u001b[0md\u001b[0m\u001b[0;34m)\u001b[0m\u001b[0;34m\u001b[0m\u001b[0m\n\u001b[1;32m     12\u001b[0m \u001b[0mtitle\u001b[0m \u001b[0;34m=\u001b[0m \u001b[0;34m'\"high\" angle noise: $\\sigma_\\\\alpha={0:.2f}$ (${1:.1f}^\\circ)$'\u001b[0m\u001b[0;34m\u001b[0m\u001b[0m\n\u001b[0;32m---> 13\u001b[0;31m \u001b[0mplot_against_distance\u001b[0m\u001b[0;34m(\u001b[0m\u001b[0mdict_methods\u001b[0m\u001b[0;34m,\u001b[0m \u001b[0mchosen_eps\u001b[0m\u001b[0;34m,\u001b[0m \u001b[0mepsilons\u001b[0m\u001b[0;34m,\u001b[0m \u001b[0msigmas\u001b[0m\u001b[0;34m,\u001b[0m \u001b[0msaveas\u001b[0m\u001b[0;34m,\u001b[0m \u001b[0mtitle\u001b[0m\u001b[0;34m)\u001b[0m\u001b[0;34m\u001b[0m\u001b[0m\n\u001b[0m",
      "\u001b[0;32m~/PhD/mmgg/icassp2018/plots.py\u001b[0m in \u001b[0;36mplot_against_distance\u001b[0;34m(dict_methods, chosen_eps, epsilons, sigmas, saveas, title, legend)\u001b[0m\n\u001b[1;32m     40\u001b[0m             \u001b[0mls\u001b[0m \u001b[0;34m=\u001b[0m \u001b[0mdict_methods\u001b[0m\u001b[0;34m[\u001b[0m\u001b[0mm\u001b[0m\u001b[0;34m]\u001b[0m\u001b[0;34m[\u001b[0m\u001b[0;34m'linestyle'\u001b[0m\u001b[0;34m]\u001b[0m\u001b[0;34m\u001b[0m\u001b[0m\n\u001b[1;32m     41\u001b[0m             \u001b[0mms\u001b[0m \u001b[0;34m=\u001b[0m \u001b[0mdict_methods\u001b[0m\u001b[0;34m[\u001b[0m\u001b[0mm\u001b[0m\u001b[0;34m]\u001b[0m\u001b[0;34m[\u001b[0m\u001b[0;34m'marker'\u001b[0m\u001b[0;34m]\u001b[0m\u001b[0;34m\u001b[0m\u001b[0m\n\u001b[0;32m---> 42\u001b[0;31m             plt.plot(sigmas[chosen_sig], rmses[chosen_sig, eps], color=colors[i],\n\u001b[0m\u001b[1;32m     43\u001b[0m                      label=label, linestyle=ls, marker=ms, fillstyle='none')\n\u001b[1;32m     44\u001b[0m         \u001b[0;31m#plt.plot(sigmas[chosen_sig],rmses[chosen_sig,eps], color=colors[i],\u001b[0m\u001b[0;34m\u001b[0m\u001b[0;34m\u001b[0m\u001b[0m\n",
      "\u001b[0;31mIndexError\u001b[0m: index 10 is out of bounds for axis 1 with size 4"
     ]
    },
    {
     "data": {
      "image/png": "[encoded data removed]",
      "text/plain": [
       "<Figure size 360x345.6 with 1 Axes>"
      ]
     },
     "metadata": {},
     "output_type": "display_data"
    },
    {
     "data": {
      "image/png": "[encoded data removed]",
      "text/plain": [
       "<Figure size 360x345.6 with 1 Axes>"
      ]
     },
     "metadata": {},
     "output_type": "display_data"
    }
   ],
   "source": [
    "# Plot results against distance error\n",
    "\n",
    "from plots import plot_against_distance\n",
    "\n",
    "chosen_eps = [2] #[2,10] #[0, 2, 10]\n",
    "saveas = '{}/low_angle_noise_N{}_d{}_deg.eps'.format(FOLDER, N, d)\n",
    "title = '\"low\" angle noise: $\\sigma_\\\\alpha={0:.2f}$ (${1:.1f}^\\circ$)'\n",
    "plot_against_distance(dict_methods, chosen_eps, epsilons, sigmas, saveas, title, legend=True)\n",
    "\n",
    "chosen_eps = [10] #[2,10] #[0, 2, 10]\n",
    "saveas = '{}/high_angle_noise_N{}_d{}_deg.eps'.format(FOLDER, N, d)\n",
    "title = '\"high\" angle noise: $\\sigma_\\\\alpha={0:.2f}$ (${1:.1f}^\\circ)$'\n",
    "plot_against_distance(dict_methods, chosen_eps, epsilons, sigmas, saveas, title)"
   ]
  },
  {
   "cell_type": "code",
   "execution_count": 9,
   "metadata": {
    "scrolled": false
   },
   "outputs": [
    {
     "name": "stderr",
     "output_type": "stream",
     "text": [
      "/home/kiki/.local/lib/python3.5/site-packages/matplotlib/cbook/deprecation.py:107: MatplotlibDeprecationWarning: Passing one of 'on', 'true', 'off', 'false' as a boolean is deprecated; use an actual boolean (True/False) instead.\n",
      "  warnings.warn(message, mplDeprecation, stacklevel=1)\n"
     ]
    },
    {
     "name": "stdout",
     "output_type": "stream",
     "text": [
      "constrained E-MDS\n",
      "E-MDS\n",
      "CDM\n",
      "MDS\n",
      "constrained E-MDS\n"
     ]
    },
    {
     "name": "stderr",
     "output_type": "stream",
     "text": [
      "/home/kiki/.local/lib/python3.5/site-packages/matplotlib/cbook/deprecation.py:107: MatplotlibDeprecationWarning: Passing one of 'on', 'true', 'off', 'false' as a boolean is deprecated; use an actual boolean (True/False) instead.\n",
      "  warnings.warn(message, mplDeprecation, stacklevel=1)\n"
     ]
    },
    {
     "ename": "IndexError",
     "evalue": "index 3 is out of bounds for axis 0 with size 3",
     "output_type": "error",
     "traceback": [
      "\u001b[0;31m---------------------------------------------------------------------------\u001b[0m",
      "\u001b[0;31mIndexError\u001b[0m                                Traceback (most recent call last)",
      "\u001b[0;32m<ipython-input-9-d479b5c65735>\u001b[0m in \u001b[0;36m<module>\u001b[0;34m()\u001b[0m\n\u001b[1;32m     10\u001b[0m \u001b[0mtitle\u001b[0m \u001b[0;34m=\u001b[0m \u001b[0;34m'\"high\" distance noise: $\\sigma_d={:2.2f}$'\u001b[0m\u001b[0;34m\u001b[0m\u001b[0m\n\u001b[1;32m     11\u001b[0m \u001b[0msaveas\u001b[0m \u001b[0;34m=\u001b[0m \u001b[0;34m'{}/high_distance_noise_N{}_d{}_deg2.eps'\u001b[0m\u001b[0;34m.\u001b[0m\u001b[0mformat\u001b[0m\u001b[0;34m(\u001b[0m\u001b[0mFOLDER\u001b[0m\u001b[0;34m,\u001b[0m \u001b[0mN\u001b[0m\u001b[0;34m,\u001b[0m \u001b[0md\u001b[0m\u001b[0;34m)\u001b[0m\u001b[0;34m\u001b[0m\u001b[0m\n\u001b[0;32m---> 12\u001b[0;31m \u001b[0mplot_against_angles\u001b[0m\u001b[0;34m(\u001b[0m\u001b[0mdict_methods\u001b[0m\u001b[0;34m,\u001b[0m \u001b[0mchosen_sig\u001b[0m\u001b[0;34m,\u001b[0m \u001b[0msigmas\u001b[0m\u001b[0;34m,\u001b[0m \u001b[0mepsilons\u001b[0m\u001b[0;34m,\u001b[0m \u001b[0msaveas\u001b[0m\u001b[0;34m,\u001b[0m \u001b[0mtitle\u001b[0m\u001b[0;34m,\u001b[0m \u001b[0mgaussian\u001b[0m\u001b[0;34m=\u001b[0m\u001b[0moptions\u001b[0m\u001b[0;34m[\u001b[0m\u001b[0;34m'gaussian'\u001b[0m\u001b[0;34m]\u001b[0m\u001b[0;34m)\u001b[0m\u001b[0;34m\u001b[0m\u001b[0m\n\u001b[0m",
      "\u001b[0;32m~/PhD/mmgg/icassp2018/plots.py\u001b[0m in \u001b[0;36mplot_against_angles\u001b[0;34m(dict_methods, chosen_sig, sigmas, epsilons, saveas, title, legend, gaussian)\u001b[0m\n\u001b[1;32m     78\u001b[0m             \u001b[0mls\u001b[0m \u001b[0;34m=\u001b[0m \u001b[0mdict_methods\u001b[0m\u001b[0;34m[\u001b[0m\u001b[0mm\u001b[0m\u001b[0;34m]\u001b[0m\u001b[0;34m[\u001b[0m\u001b[0;34m'linestyle'\u001b[0m\u001b[0;34m]\u001b[0m\u001b[0;34m\u001b[0m\u001b[0m\n\u001b[1;32m     79\u001b[0m             \u001b[0mms\u001b[0m \u001b[0;34m=\u001b[0m \u001b[0mdict_methods\u001b[0m\u001b[0;34m[\u001b[0m\u001b[0mm\u001b[0m\u001b[0;34m]\u001b[0m\u001b[0;34m[\u001b[0m\u001b[0;34m'marker'\u001b[0m\u001b[0;34m]\u001b[0m\u001b[0;34m\u001b[0m\u001b[0m\n\u001b[0;32m---> 80\u001b[0;31m             plot(epsilons[chosen_eps], rmses[sig, chosen_eps], linestyle=ls, label=label,\n\u001b[0m\u001b[1;32m     81\u001b[0m                  marker=ms,  color=colors[i], fillstyle='none')\n\u001b[1;32m     82\u001b[0m \u001b[0;34m\u001b[0m\u001b[0m\n",
      "\u001b[0;31mIndexError\u001b[0m: index 3 is out of bounds for axis 0 with size 3"
     ]
    },
    {
     "data": {
      "image/png": "[encoded data removed]",
      "text/plain": [
       "<Figure size 360x360 with 2 Axes>"
      ]
     },
     "metadata": {},
     "output_type": "display_data"
    },
    {
     "data": {
      "image/png": "[encoded data removed]",
      "text/plain": [
       "<Figure size 360x360 with 1 Axes>"
      ]
     },
     "metadata": {},
     "output_type": "display_data"
    }
   ],
   "source": [
    "# plot results against angle error\n",
    "\n",
    "from plots import plot_against_angles\n",
    "chosen_sig = [1] #[0, 9] #[0, 3, 9]\n",
    "title = '\"low\" distance noise: $\\sigma_d={:2.2f}$'\n",
    "saveas = '{}/low_distance_noise_N{}_d{}_deg2.eps'.format(FOLDER, N, d)\n",
    "plot_against_angles(dict_methods, chosen_sig, sigmas, epsilons, saveas, title, legend=True, gaussian=options['gaussian'])\n",
    "\n",
    "chosen_sig = [3] #[0, 9] #[0, 3, 9]\n",
    "title = '\"high\" distance noise: $\\sigma_d={:2.2f}$'\n",
    "saveas = '{}/high_distance_noise_N{}_d{}_deg2.eps'.format(FOLDER, N, d)\n",
    "plot_against_angles(dict_methods, chosen_sig, sigmas, epsilons, saveas, title, gaussian=options['gaussian'])"
   ]
  },
  {
   "cell_type": "code",
   "execution_count": null,
   "metadata": {},
   "outputs": [],
   "source": [
    "from plots import plot_seaborn\n",
    "\n",
    "plot_seaborn(dict_methods, options, 'SDM', folder=FOLDER, ylabel=True, vmin=0, vmax=.4, cbar=False, square=True)\n",
    "plot_seaborn(dict_methods, options, 'constrained E-MDS', folder=FOLDER, vmin=0, vmax=.4, square=True)\n",
    "\n",
    "difference = dict_methods['SDM']['rmses'] - dict_methods['constrained E-MDS']['rmses']\n",
    "plot_seaborn(dict_methods, options, 'difference CDM - constrained E-MDS', folder=FOLDER, matrix=difference, figsize=(10,5), ylabel=True, center=0, square=False)"
   ]
  },
  {
   "cell_type": "markdown",
   "metadata": {},
   "source": [
    "## Algorithm testing"
   ]
  },
  {
   "cell_type": "code",
   "execution_count": null,
   "metadata": {},
   "outputs": [],
   "source": [
    "def evaluate(KE, real_KE):\n",
    "    print('comparing:',KE[:2,:2])\n",
    "    print('with:',real_KE[:2,:2])\n",
    "    print('rank:',np.linalg.matrix_rank(KE, tol=1e-10))\n",
    "    eigvals = np.sort(np.linalg.eigvalsh(KE))\n",
    "    print('eigenvalues:',eigvals)\n",
    "    print('abs sum of all but d biggest:',np.sum(np.abs(eigvals[:-d])))\n",
    "    print('error:',np.linalg.norm(KE-real_KE))\n",
    "    print('constraints error:', np.linalg.norm(C.dot(KE)-b))\n",
    "\n",
    "import numpy as np\n",
    "from pylocus.point_set import HeterogenousSet, get_V, dmi_from_V, sdm_from_dmi\n",
    "from pylocus.basics import vector_from_matrix\n",
    "N = 6\n",
    "d = 2\n",
    "points = HeterogenousSet(N, d)\n",
    "points.set_points('normal')\n",
    "\n",
    "noise_angles = 0.01\n",
    "noise_distances = 0.01\n",
    "\n",
    "angles_original = vector_from_matrix(points.abs_angles)\n",
    "dm_original = points.dm\n",
    "\n",
    "angles_noisy = angles_original + np.random.normal(scale=noise_angles, size=angles_original.shape)\n",
    "dm_noisy = dm_original + np.random.normal(scale=noise_distances, size=dm_original.shape)\n",
    "\n",
    "Vnoisy = get_V(angles_noisy, dm_noisy)\n",
    "\n",
    "#newEMDS\n",
    "KE_noisy = Vnoisy.dot(Vnoisy.T)\n",
    "    \n",
    "C, b = points.get_KE_constraints()\n",
    "assert np.allclose(C.dot(points.KE), b)\n",
    "print('before:')\n",
    "evaluate(KE_noisy, points.KE)\n",
    "evaluate(KE_noisy, points.KE)"
   ]
  },
  {
   "cell_type": "code",
   "execution_count": null,
   "metadata": {},
   "outputs": [],
   "source": [
    "from pylocus.mds import relaxedEMDS\n",
    "\n",
    "Xhat, Vhat = relaxedEMDS(points.points[0,:], N=points.N, d=points.d, C=C, b=b, KE=KE_noisy)\n",
    "KE_new = Vhat.dot(Vhat.T)\n",
    "\n",
    "evaluate(KE_new, points.KE)"
   ]
  },
  {
   "cell_type": "code",
   "execution_count": null,
   "metadata": {},
   "outputs": [],
   "source": [
    "from cvxpy import *\n",
    "def clean_angles(Om):\n",
    "    E = len(Om)\n",
    "    X = Semidef(E)\n",
    "    Noise = Variable(E, E) \n",
    "\n",
    "    #constraints = [C[i,:] * X == b[i] for i in range(C.shape[0])]\n",
    "    constraints = [X + Noise == Om] # include weighting matrix? \n",
    "    [constraints.append(X[i,i] == 1.0) for i in range(E)]\n",
    "\n",
    "    obj = Minimize(trace(X) + norm(Noise))\n",
    "    prob = Problem(obj, constraints)\n",
    "\n",
    "    print('available:',installed_solvers())\n",
    "    #total_cost = prob.solve(solver='SCS',verbose=True, eps=1e-10)\n",
    "    #total_cost = prob.solve(solver='CVXOPT',verbose=True, \n",
    "    #                        abstol=1e-10, reltol=1e-8, feastol=1e-10,\n",
    "    #                        kktsolver=\"robust\")\n",
    "    total_cost = prob.solve(solver='CVXOPT',verbose=True, \n",
    "                            kktsolver=\"robust\")\n",
    "    print('status:',prob.status)\n",
    "    if X.value is not None:\n",
    "        return X.value, Noise.value\n",
    "    \n",
    "noisy_Om = points.Om + np.random.normal(scale=0.01)\n",
    "np.fill_diagonal(noisy_Om, 1.0)\n",
    "print('noise before:', np.linalg.norm(noisy_Om - points.Om))\n",
    "cleaned_Om, Noise = clean_angles(noisy_Om)\n",
    "assert np.alltrue(cleaned_Om == cleaned_Om.T)\n",
    "eigvals = np.linalg.eigvalsh(cleaned_Om) \n",
    "eigvals[np.abs(eigvals) < 1e-4] = 0.0\n",
    "assert (eigvals >= 0).all(), 'eigvals:{}'.format(np.linalg.eigvalsh(cleaned_Om))\n",
    "from pylocus.plots_cti import plot_matrix\n",
    "plot_matrix(Noise, title='Noise')\n",
    "plot_matrix(cleaned_Om, title='Cosines')\n",
    "print('noise after:', np.linalg.norm(cleaned_Om - points.Om))"
   ]
  },
  {
   "cell_type": "code",
   "execution_count": null,
   "metadata": {},
   "outputs": [],
   "source": [
    "from pylocus.mds import iterativeEMDS\n",
    "__, Vhat_KE = iterativeEMDS(points.points[0,:], points.N, points.d,\n",
    "                           C, b, KE=KE_noisy, print_out=True)\n",
    "KE_old = Vhat_KE.dot(Vhat_KE.T)\n",
    "print('old')\n",
    "evaluate(KE_old, points.KE)"
   ]
  },
  {
   "cell_type": "code",
   "execution_count": null,
   "metadata": {},
   "outputs": [],
   "source": []
  }
 ],
 "metadata": {
  "anaconda-cloud": {},
  "kernelspec": {
   "display_name": "Python 3",
   "language": "python",
   "name": "python3"
  },
  "language_info": {
   "codemirror_mode": {
    "name": "ipython",
    "version": 3
   },
   "file_extension": ".py",
   "mimetype": "text/x-python",
   "name": "python",
   "nbconvert_exporter": "python",
   "pygments_lexer": "ipython3",
   "version": "3.5.2"
  }
 },
 "nbformat": 4,
 "nbformat_minor": 1
}
