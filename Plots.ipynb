{
 "cells": [
  {
   "cell_type": "markdown",
   "metadata": {},
   "source": [
    "# Combining range and direction for improved localizatioin\n",
    "\n",
    "This notebook can be used to reproduced the results shown in the paper of the above title, as well as to visualize new simulated data."
   ]
  },
  {
   "cell_type": "code",
   "execution_count": null,
   "metadata": {
    "scrolled": true
   },
   "outputs": [],
   "source": [
    "#Useful imports\n",
    "%matplotlib inline\n",
    "import numpy as np\n",
    "import matplotlib.pyplot as plt\n",
    "from math import sin, cos, asin, acos, atan\n",
    "%reload_ext autoreload\n",
    "%autoreload 2\n",
    "from matplotlib import rc\n",
    "rc('font',**{'family':'dejavu-sans','sans-serif':['Helvetica']})\n",
    "rc('text', usetex=True)\n",
    "\n",
    "# read results\n",
    "def parse_results(methods, times, n_its):\n",
    "    linestyles = ['-','-.',':','--','-']\n",
    "    markerstyle = ('o', 's', '^', '*', '>', '8', 's', 'p', '*', 'h', 'H', 'D', 'd', 'P', 'X')\n",
    "    dict_methods = {m:{'rmses':'','linestyle':linestyles[i], 'marker':markerstyle[i]} \n",
    "                    for i,m in enumerate(methods)}\n",
    "    name = 'rmses_{}_{}'\n",
    "    for key in dict_methods.keys():\n",
    "        total_n_it = 0\n",
    "        for time in times:\n",
    "            try: \n",
    "                new_data = np.load(FOLDER+'/'+name.format(key, time)+'.npy')\n",
    "                print('loading {}/'.format(FOLDER) +name.format(key, time)+'.npy')\n",
    "                try:\n",
    "                    dict_methods[key]['rmses'] += n_its[time] * new_data\n",
    "                except TypeError:\n",
    "                    dict_methods[key]['rmses'] = n_its[time] * new_data\n",
    "                total_n_it += n_its[time]\n",
    "            except:\n",
    "                print('could not find new data under', FOLDER+'/'+name.format(key, time)+'.npy')\n",
    "                raise\n",
    "        if total_n_it > 0:\n",
    "            dict_methods[key]['rmses'] /= total_n_it\n",
    "        else:\n",
    "            raise NameError('Could not find any results for method {}'.format(key))\n",
    "    return dict_methods\n",
    "\n",
    "# find times with correct options:\n",
    "def get_times(**kwargs):\n",
    "    times = []\n",
    "    n_its = {}\n",
    "    good_options = None\n",
    "    for f in os.listdir(FOLDER):\n",
    "        if f.startswith('options_'):\n",
    "            filename = '{}/{}'.format(FOLDER, f)\n",
    "            with open(filename, 'r') as options_file:\n",
    "                options = json.load(options_file)\n",
    "            options_test = [options[key]==val for key, val in kwargs.items()]\n",
    "            if all(options_test):\n",
    "                time = f[-15:-5]\n",
    "                n_its[str(time)] = options['n_it']\n",
    "                times.append(time)\n",
    "                good_options = options\n",
    "    print('identified times:',times)\n",
    "    print('n_its',n_its)\n",
    "    return times, n_its, good_options"
   ]
  },
  {
   "cell_type": "markdown",
   "metadata": {},
   "source": [
    "## Recreation of plots used in the paper\n",
    "\n",
    "### Read results"
   ]
  },
  {
   "cell_type": "code",
   "execution_count": null,
   "metadata": {
    "scrolled": true
   },
   "outputs": [],
   "source": [
    "import os\n",
    "import json\n",
    "from run_simulation import parse_options, parse_options_gaussian\n",
    "\n",
    "FOLDER = 'icassp_results' # original version\n",
    "N = 6\n",
    "d = 2\n",
    "\n",
    "# Choose which methods to load. \n",
    "# Set to parameters used in run_simulation, when creating\n",
    "# the results you would like to consider.\n",
    "methods = ['CDM','constrained E-MDS','E-MDS','MDS']\n",
    "\n",
    "# get results with correct parameters\n",
    "times, n_its, options = get_times(N=N, n_it=500, d=d)\n",
    "dict_methods = parse_results(methods, times, n_its)\n",
    "sigmas, rhos, __ = parse_options_gaussian(options)"
   ]
  },
  {
   "cell_type": "markdown",
   "metadata": {},
   "source": [
    "### Plot results against distance error"
   ]
  },
  {
   "cell_type": "code",
   "execution_count": null,
   "metadata": {},
   "outputs": [],
   "source": [
    "from plots import plot_against_distance\n",
    "\n",
    "chosen_rho = [2] #[2,10] #[0, 2, 10]\n",
    "saveas = '{}/low_angle_noise_N{}_d{}_deg.eps'.format(FOLDER, N, d)\n",
    "title = '\"low\" angle noise: $\\sigma_\\\\alpha={0:.2f}$ (${1:.1f}^\\circ$)'\n",
    "plot_against_distance(dict_methods, chosen_rho, rhos, sigmas, saveas, title, legend=True)\n",
    "f = plt.gcf(); f.set_size_inches(10,5)\n",
    "\n",
    "chosen_rho = [10] #[2,10] #[0, 2, 10]\n",
    "saveas = '{}/high_angle_noise_N{}_d{}_deg.eps'.format(FOLDER, N, d)\n",
    "title = '\"high\" angle noise: $\\sigma_\\\\alpha={0:.2f}$ (${1:.1f}^\\circ)$'\n",
    "plot_against_distance(dict_methods, chosen_rho, rhos, sigmas, saveas, title)\n",
    "f = plt.gcf(); f.set_size_inches(10,5)"
   ]
  },
  {
   "cell_type": "markdown",
   "metadata": {
    "scrolled": false
   },
   "source": [
    "### Plot results against angle error"
   ]
  },
  {
   "cell_type": "code",
   "execution_count": null,
   "metadata": {
    "scrolled": false
   },
   "outputs": [],
   "source": [
    "from plots import plot_against_angles\n",
    "\n",
    "chosen_sig = [1] #[0, 9] #[0, 3, 9]\n",
    "title = '\"low\" distance noise: $\\sigma_d={:2.2f}$'\n",
    "saveas = '{}/low_distance_noise_N{}_d{}_deg2.eps'.format(FOLDER, N, d)\n",
    "plot_against_angles(dict_methods, chosen_sig, sigmas, rhos, saveas, title, legend=True, gaussian=options['gaussian'])\n",
    "f = plt.gcf(); f.set_size_inches(10,5)\n",
    "\n",
    "chosen_sig = [3] #[0, 9] #[0, 3, 9]\n",
    "title = '\"high\" distance noise: $\\sigma_d={:2.2f}$'\n",
    "saveas = '{}/high_distance_noise_N{}_d{}_deg2.eps'.format(FOLDER, N, d)\n",
    "plot_against_angles(dict_methods, chosen_sig, sigmas, rhos, saveas, title, gaussian=options['gaussian'])\n",
    "f = plt.gcf(); f.set_size_inches(10,5)"
   ]
  },
  {
   "cell_type": "code",
   "execution_count": null,
   "metadata": {},
   "outputs": [],
   "source": [
    "from plots import plot_seaborn\n",
    "\n",
    "plot_seaborn(dict_methods, options, 'CDM', folder=FOLDER, ylabel=True, vmin=0, vmax=.4, cbar=False, square=True)\n",
    "plot_seaborn(dict_methods, options, 'constrained E-MDS', folder=FOLDER, vmin=0, vmax=.4, square=True)\n",
    "\n",
    "difference = dict_methods['CDM']['rmses'] - dict_methods['constrained E-MDS']['rmses']\n",
    "plot_seaborn(dict_methods, options, 'difference CDM - constrained E-MDS', folder=FOLDER, matrix=difference, figsize=(10,5), ylabel=True, center=0, square=False)"
   ]
  },
  {
   "cell_type": "markdown",
   "metadata": {},
   "source": [
    "## Create own results\n",
    "\n",
    "To create your own results, run the script run_simulation, choosing the desired parameters. Then, you can load and plot the results here (or wherever you wish) as shown above. \n",
    "\n",
    "If you wish to implement your own algorithms and compare, we recommend that you create a fork of the pylocus package (that way it can stay private at first if you wish) and add the method to the algorithms.py script, borrowing from the other examples for the correct syntax. Using a local install of your forked package, you can easily compare with the provided methods. "
   ]
  },
  {
   "cell_type": "code",
   "execution_count": null,
   "metadata": {},
   "outputs": [],
   "source": [
    "#FOLDER = 'many_iterations' # new version with M*V\n",
    "FOLDER = 'many_iterations_original' # original with M*K\n",
    "\n",
    "methods = ['CDM','constrained E-MDS','E-MDS','MDS']\n",
    "\n",
    "# get results with correct parameters\n",
    "times, n_its, good_options = get_times(N=6, n_it=100, d=2)\n",
    "dict_methods = parse_results(methods, times, n_its)\n",
    "\n",
    "sigmas, rhos, __ = parse_options_gaussian(good_options)\n",
    "chosen_rho = [2] #[2,10] #[0, 2, 10]\n",
    "saveas = '{}/low_angle_noise_N{}_d{}_deg.eps'.format(FOLDER, N, d)\n",
    "title = '\"low\" angle noise: $\\sigma_\\\\alpha={0:.2f}$ (${1:.1f}^\\circ$)'\n",
    "plot_against_distance(dict_methods, chosen_rho, rhos, sigmas, saveas, title, legend=True)\n",
    "\n",
    "difference = dict_methods['CDM']['rmses'] - dict_methods['constrained E-MDS']['rmses']\n",
    "plot_seaborn(dict_methods, options, 'difference CDM - constrained E-MDS', folder=FOLDER, matrix=difference, figsize=(10,5), ylabel=True, center=0, square=False)"
   ]
  },
  {
   "cell_type": "code",
   "execution_count": null,
   "metadata": {},
   "outputs": [],
   "source": []
  },
  {
   "cell_type": "code",
   "execution_count": null,
   "metadata": {},
   "outputs": [],
   "source": []
  }
 ],
 "metadata": {
  "anaconda-cloud": {},
  "kernelspec": {
   "display_name": "Python 3",
   "language": "python",
   "name": "python3"
  },
  "language_info": {
   "codemirror_mode": {
    "name": "ipython",
    "version": 3
   },
   "file_extension": ".py",
   "mimetype": "text/x-python",
   "name": "python",
   "nbconvert_exporter": "python",
   "pygments_lexer": "ipython3",
   "version": "3.5.2"
  }
 },
 "nbformat": 4,
 "nbformat_minor": 1
}
